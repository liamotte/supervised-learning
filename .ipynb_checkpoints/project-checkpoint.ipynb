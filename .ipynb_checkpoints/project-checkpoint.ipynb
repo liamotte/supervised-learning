{
 "cells": [
  {
   "cell_type": "markdown",
   "metadata": {
    "toc": true
   },
   "source": [
    "<h1>Содержание<span class=\"tocSkip\"></span></h1>\n",
    "<div class=\"toc\"><ul class=\"toc-item\"><li><span><a href=\"#Подготовка-данных\" data-toc-modified-id=\"Подготовка-данных-1\"><span class=\"toc-item-num\">1&nbsp;&nbsp;</span>Подготовка данных</a></span><ul class=\"toc-item\"><li><span><a href=\"#Вывод\" data-toc-modified-id=\"Вывод-1.1\"><span class=\"toc-item-num\">1.1&nbsp;&nbsp;</span>Вывод</a></span></li></ul></li><li><span><a href=\"#Исследование-задачи\" data-toc-modified-id=\"Исследование-задачи-2\"><span class=\"toc-item-num\">2&nbsp;&nbsp;</span>Исследование задачи</a></span><ul class=\"toc-item\"><li><span><a href=\"#Вывод\" data-toc-modified-id=\"Вывод-2.1\"><span class=\"toc-item-num\">2.1&nbsp;&nbsp;</span>Вывод</a></span></li></ul></li><li><span><a href=\"#Борьба-с-дисбалансом\" data-toc-modified-id=\"Борьба-с-дисбалансом-3\"><span class=\"toc-item-num\">3&nbsp;&nbsp;</span>Борьба с дисбалансом</a></span><ul class=\"toc-item\"><li><span><a href=\"#Взвешивание-классов\" data-toc-modified-id=\"Взвешивание-классов-3.1\"><span class=\"toc-item-num\">3.1&nbsp;&nbsp;</span>Взвешивание классов</a></span><ul class=\"toc-item\"><li><span><a href=\"#Случайный-лес\" data-toc-modified-id=\"Случайный-лес-3.1.1\"><span class=\"toc-item-num\">3.1.1&nbsp;&nbsp;</span>Случайный лес</a></span></li></ul></li><li><span><a href=\"#Увеличение-выборки\" data-toc-modified-id=\"Увеличение-выборки-3.2\"><span class=\"toc-item-num\">3.2&nbsp;&nbsp;</span>Увеличение выборки</a></span><ul class=\"toc-item\"><li><span><a href=\"#Случайный-лес\" data-toc-modified-id=\"Случайный-лес-3.2.1\"><span class=\"toc-item-num\">3.2.1&nbsp;&nbsp;</span>Случайный лес</a></span></li><li><span><a href=\"#Логистическая-регрессия\" data-toc-modified-id=\"Логистическая-регрессия-3.2.2\"><span class=\"toc-item-num\">3.2.2&nbsp;&nbsp;</span>Логистическая регрессия</a></span></li></ul></li><li><span><a href=\"#Уменьшение-выборки\" data-toc-modified-id=\"Уменьшение-выборки-3.3\"><span class=\"toc-item-num\">3.3&nbsp;&nbsp;</span>Уменьшение выборки</a></span><ul class=\"toc-item\"><li><span><a href=\"#Случайный-лес\" data-toc-modified-id=\"Случайный-лес-3.3.1\"><span class=\"toc-item-num\">3.3.1&nbsp;&nbsp;</span>Случайный лес</a></span></li><li><span><a href=\"#Логистическая-регрессия\" data-toc-modified-id=\"Логистическая-регрессия-3.3.2\"><span class=\"toc-item-num\">3.3.2&nbsp;&nbsp;</span>Логистическая регрессия</a></span></li></ul></li><li><span><a href=\"#Вывод\" data-toc-modified-id=\"Вывод-3.4\"><span class=\"toc-item-num\">3.4&nbsp;&nbsp;</span>Вывод</a></span></li></ul></li><li><span><a href=\"#Подбор-оптимальных-гиперпараметров\" data-toc-modified-id=\"Подбор-оптимальных-гиперпараметров-4\"><span class=\"toc-item-num\">4&nbsp;&nbsp;</span>Подбор оптимальных гиперпараметров</a></span></li><li><span><a href=\"#Тестирование-модели\" data-toc-modified-id=\"Тестирование-модели-5\"><span class=\"toc-item-num\">5&nbsp;&nbsp;</span>Тестирование модели</a></span></li><li><span><a href=\"#Общий-вывод\" data-toc-modified-id=\"Общий-вывод-6\"><span class=\"toc-item-num\">6&nbsp;&nbsp;</span>Общий вывод</a></span></li></ul></div>"
   ]
  },
  {
   "cell_type": "markdown",
   "metadata": {},
   "source": [
    "# Отток клиентов"
   ]
  },
  {
   "cell_type": "markdown",
   "metadata": {},
   "source": [
    "Из «Бета-Банка» стали уходить клиенты. Каждый месяц. Немного, но заметно. Банковские маркетологи посчитали: сохранять текущих клиентов дешевле, чем привлекать новых.\n",
    "\n",
    "Нужно спрогнозировать, уйдёт клиент из банка в ближайшее время или нет. Вам предоставлены исторические данные о поведении клиентов и расторжении договоров с банком. \n",
    "\n",
    "Постройте модель с предельно большим значением *F1*-меры. Чтобы сдать проект успешно, нужно довести метрику до 0.59. Проверьте *F1*-меру на тестовой выборке самостоятельно.\n",
    "\n",
    "Дополнительно измеряйте *AUC-ROC*, сравнивайте её значение с *F1*-мерой.\n",
    "\n",
    "Источник данных: [https://www.kaggle.com/barelydedicated/bank-customer-churn-modeling](https://www.kaggle.com/barelydedicated/bank-customer-churn-modeling)"
   ]
  },
  {
   "cell_type": "markdown",
   "metadata": {},
   "source": [
    "# Описание данных\n",
    "<b>Признаки</b>\n",
    "- _RowNumber_ — индекс строки в данных\n",
    "- _CustomerId_ — уникальный идентификатор клиента\n",
    "- _Surname_ — фамилия\n",
    "- _CreditScore_ — кредитный рейтинг\n",
    "- _Geography_ — страна проживания\n",
    "- _Gender_ — пол\n",
    "- _Age_ — возраст\n",
    "- _Tenure_ — сколько лет человек является клиентом банка\n",
    "- _Balance_ — баланс на счёте\n",
    "- _NumOfProducts_ — количество продуктов банка, используемых клиентом\n",
    "- _HasCrCard_ — наличие кредитной карты\n",
    "- _IsActiveMember_ — активность клиента\n",
    "- _EstimatedSalary_ — предполагаемая зарплата\n",
    "\n",
    "<br><b>Целевой признак</b>\n",
    "- _Exited_ — факт ухода клиента"
   ]
  },
  {
   "cell_type": "code",
   "execution_count": 1,
   "metadata": {},
   "outputs": [],
   "source": [
    "import pandas as pd\n",
    "import matplotlib.pyplot as plt\n",
    "\n",
    "from sklearn.utils import shuffle\n",
    "from sklearn.model_selection import train_test_split\n",
    "from sklearn.preprocessing import StandardScaler\n",
    "from sklearn.ensemble import RandomForestClassifier\n",
    "from sklearn.linear_model import LogisticRegression\n",
    "from sklearn.tree import DecisionTreeClassifier\n",
    "from sklearn.model_selection import GridSearchCV\n",
    "from sklearn.metrics import confusion_matrix, ConfusionMatrixDisplay, roc_curve\n",
    "from sklearn.metrics import accuracy_score, precision_score, recall_score, f1_score, roc_auc_score"
   ]
  },
  {
   "cell_type": "markdown",
   "metadata": {},
   "source": [
    "## Подготовка данных"
   ]
  },
  {
   "cell_type": "code",
   "execution_count": 2,
   "metadata": {},
   "outputs": [],
   "source": [
    "try:\n",
    "    df = pd.read_csv('Churn.csv')\n",
    "except:\n",
    "    df = pd.read_csv('/datasets/Churn.csv')"
   ]
  },
  {
   "cell_type": "code",
   "execution_count": 3,
   "metadata": {},
   "outputs": [
    {
     "data": {
      "text/html": [
       "<div>\n",
       "<style scoped>\n",
       "    .dataframe tbody tr th:only-of-type {\n",
       "        vertical-align: middle;\n",
       "    }\n",
       "\n",
       "    .dataframe tbody tr th {\n",
       "        vertical-align: top;\n",
       "    }\n",
       "\n",
       "    .dataframe thead th {\n",
       "        text-align: right;\n",
       "    }\n",
       "</style>\n",
       "<table border=\"1\" class=\"dataframe\">\n",
       "  <thead>\n",
       "    <tr style=\"text-align: right;\">\n",
       "      <th></th>\n",
       "      <th>RowNumber</th>\n",
       "      <th>CustomerId</th>\n",
       "      <th>Surname</th>\n",
       "      <th>CreditScore</th>\n",
       "      <th>Geography</th>\n",
       "      <th>Gender</th>\n",
       "      <th>Age</th>\n",
       "      <th>Tenure</th>\n",
       "      <th>Balance</th>\n",
       "      <th>NumOfProducts</th>\n",
       "      <th>HasCrCard</th>\n",
       "      <th>IsActiveMember</th>\n",
       "      <th>EstimatedSalary</th>\n",
       "      <th>Exited</th>\n",
       "    </tr>\n",
       "  </thead>\n",
       "  <tbody>\n",
       "    <tr>\n",
       "      <th>0</th>\n",
       "      <td>1</td>\n",
       "      <td>15634602</td>\n",
       "      <td>Hargrave</td>\n",
       "      <td>619</td>\n",
       "      <td>France</td>\n",
       "      <td>Female</td>\n",
       "      <td>42</td>\n",
       "      <td>2.0</td>\n",
       "      <td>0.00</td>\n",
       "      <td>1</td>\n",
       "      <td>1</td>\n",
       "      <td>1</td>\n",
       "      <td>101348.88</td>\n",
       "      <td>1</td>\n",
       "    </tr>\n",
       "    <tr>\n",
       "      <th>1</th>\n",
       "      <td>2</td>\n",
       "      <td>15647311</td>\n",
       "      <td>Hill</td>\n",
       "      <td>608</td>\n",
       "      <td>Spain</td>\n",
       "      <td>Female</td>\n",
       "      <td>41</td>\n",
       "      <td>1.0</td>\n",
       "      <td>83807.86</td>\n",
       "      <td>1</td>\n",
       "      <td>0</td>\n",
       "      <td>1</td>\n",
       "      <td>112542.58</td>\n",
       "      <td>0</td>\n",
       "    </tr>\n",
       "    <tr>\n",
       "      <th>2</th>\n",
       "      <td>3</td>\n",
       "      <td>15619304</td>\n",
       "      <td>Onio</td>\n",
       "      <td>502</td>\n",
       "      <td>France</td>\n",
       "      <td>Female</td>\n",
       "      <td>42</td>\n",
       "      <td>8.0</td>\n",
       "      <td>159660.80</td>\n",
       "      <td>3</td>\n",
       "      <td>1</td>\n",
       "      <td>0</td>\n",
       "      <td>113931.57</td>\n",
       "      <td>1</td>\n",
       "    </tr>\n",
       "    <tr>\n",
       "      <th>3</th>\n",
       "      <td>4</td>\n",
       "      <td>15701354</td>\n",
       "      <td>Boni</td>\n",
       "      <td>699</td>\n",
       "      <td>France</td>\n",
       "      <td>Female</td>\n",
       "      <td>39</td>\n",
       "      <td>1.0</td>\n",
       "      <td>0.00</td>\n",
       "      <td>2</td>\n",
       "      <td>0</td>\n",
       "      <td>0</td>\n",
       "      <td>93826.63</td>\n",
       "      <td>0</td>\n",
       "    </tr>\n",
       "    <tr>\n",
       "      <th>4</th>\n",
       "      <td>5</td>\n",
       "      <td>15737888</td>\n",
       "      <td>Mitchell</td>\n",
       "      <td>850</td>\n",
       "      <td>Spain</td>\n",
       "      <td>Female</td>\n",
       "      <td>43</td>\n",
       "      <td>2.0</td>\n",
       "      <td>125510.82</td>\n",
       "      <td>1</td>\n",
       "      <td>1</td>\n",
       "      <td>1</td>\n",
       "      <td>79084.10</td>\n",
       "      <td>0</td>\n",
       "    </tr>\n",
       "  </tbody>\n",
       "</table>\n",
       "</div>"
      ],
      "text/plain": [
       "   RowNumber  CustomerId   Surname  CreditScore Geography  Gender  Age  \\\n",
       "0          1    15634602  Hargrave          619    France  Female   42   \n",
       "1          2    15647311      Hill          608     Spain  Female   41   \n",
       "2          3    15619304      Onio          502    France  Female   42   \n",
       "3          4    15701354      Boni          699    France  Female   39   \n",
       "4          5    15737888  Mitchell          850     Spain  Female   43   \n",
       "\n",
       "   Tenure    Balance  NumOfProducts  HasCrCard  IsActiveMember  \\\n",
       "0     2.0       0.00              1          1               1   \n",
       "1     1.0   83807.86              1          0               1   \n",
       "2     8.0  159660.80              3          1               0   \n",
       "3     1.0       0.00              2          0               0   \n",
       "4     2.0  125510.82              1          1               1   \n",
       "\n",
       "   EstimatedSalary  Exited  \n",
       "0        101348.88       1  \n",
       "1        112542.58       0  \n",
       "2        113931.57       1  \n",
       "3         93826.63       0  \n",
       "4         79084.10       0  "
      ]
     },
     "execution_count": 3,
     "metadata": {},
     "output_type": "execute_result"
    }
   ],
   "source": [
    "df.head()"
   ]
  },
  {
   "cell_type": "code",
   "execution_count": 4,
   "metadata": {},
   "outputs": [
    {
     "name": "stdout",
     "output_type": "stream",
     "text": [
      "<class 'pandas.core.frame.DataFrame'>\n",
      "RangeIndex: 10000 entries, 0 to 9999\n",
      "Data columns (total 14 columns):\n",
      " #   Column           Non-Null Count  Dtype  \n",
      "---  ------           --------------  -----  \n",
      " 0   RowNumber        10000 non-null  int64  \n",
      " 1   CustomerId       10000 non-null  int64  \n",
      " 2   Surname          10000 non-null  object \n",
      " 3   CreditScore      10000 non-null  int64  \n",
      " 4   Geography        10000 non-null  object \n",
      " 5   Gender           10000 non-null  object \n",
      " 6   Age              10000 non-null  int64  \n",
      " 7   Tenure           9091 non-null   float64\n",
      " 8   Balance          10000 non-null  float64\n",
      " 9   NumOfProducts    10000 non-null  int64  \n",
      " 10  HasCrCard        10000 non-null  int64  \n",
      " 11  IsActiveMember   10000 non-null  int64  \n",
      " 12  EstimatedSalary  10000 non-null  float64\n",
      " 13  Exited           10000 non-null  int64  \n",
      "dtypes: float64(3), int64(8), object(3)\n",
      "memory usage: 1.1+ MB\n"
     ]
    }
   ],
   "source": [
    "df.info()"
   ]
  },
  {
   "cell_type": "code",
   "execution_count": 5,
   "metadata": {},
   "outputs": [
    {
     "data": {
      "text/plain": [
       "False"
      ]
     },
     "execution_count": 5,
     "metadata": {},
     "output_type": "execute_result"
    }
   ],
   "source": [
    "df.duplicated().any()"
   ]
  },
  {
   "cell_type": "code",
   "execution_count": 6,
   "metadata": {},
   "outputs": [
    {
     "data": {
      "text/plain": [
       "False"
      ]
     },
     "execution_count": 6,
     "metadata": {},
     "output_type": "execute_result"
    }
   ],
   "source": [
    "df['CustomerId'].duplicated().any()"
   ]
  },
  {
   "cell_type": "markdown",
   "metadata": {},
   "source": [
    "- Все объекты таблицы уникальны\n",
    "- Есть пропуски в столбце `Tenure`\n",
    "- Имеется три категориальных признака: `Surname`, `Geography` и `Gender`"
   ]
  },
  {
   "cell_type": "code",
   "execution_count": 7,
   "metadata": {},
   "outputs": [],
   "source": [
    "# заполняем пропуски в столбце 'Tenure'\n",
    "df['Tenure'] = df['Tenure'].fillna(0)"
   ]
  },
  {
   "cell_type": "code",
   "execution_count": 8,
   "metadata": {},
   "outputs": [
    {
     "name": "stdout",
     "output_type": "stream",
     "text": [
      "<class 'pandas.core.frame.DataFrame'>\n",
      "RangeIndex: 10000 entries, 0 to 9999\n",
      "Data columns (total 14 columns):\n",
      " #   Column           Non-Null Count  Dtype  \n",
      "---  ------           --------------  -----  \n",
      " 0   RowNumber        10000 non-null  int64  \n",
      " 1   CustomerId       10000 non-null  int64  \n",
      " 2   Surname          10000 non-null  object \n",
      " 3   CreditScore      10000 non-null  int64  \n",
      " 4   Geography        10000 non-null  object \n",
      " 5   Gender           10000 non-null  object \n",
      " 6   Age              10000 non-null  int64  \n",
      " 7   Tenure           10000 non-null  float64\n",
      " 8   Balance          10000 non-null  float64\n",
      " 9   NumOfProducts    10000 non-null  int64  \n",
      " 10  HasCrCard        10000 non-null  int64  \n",
      " 11  IsActiveMember   10000 non-null  int64  \n",
      " 12  EstimatedSalary  10000 non-null  float64\n",
      " 13  Exited           10000 non-null  int64  \n",
      "dtypes: float64(3), int64(8), object(3)\n",
      "memory usage: 1.1+ MB\n"
     ]
    }
   ],
   "source": [
    "df.info()"
   ]
  },
  {
   "cell_type": "markdown",
   "metadata": {},
   "source": [
    "Признаки [`RowNumber`, `CustomerId`, `Surname`] не представляют ценности, как обучающий материал, — удалим их."
   ]
  },
  {
   "cell_type": "code",
   "execution_count": 9,
   "metadata": {},
   "outputs": [
    {
     "data": {
      "text/plain": [
       "Index(['CreditScore', 'Geography', 'Gender', 'Age', 'Tenure', 'Balance',\n",
       "       'NumOfProducts', 'HasCrCard', 'IsActiveMember', 'EstimatedSalary',\n",
       "       'Exited'],\n",
       "      dtype='object')"
      ]
     },
     "execution_count": 9,
     "metadata": {},
     "output_type": "execute_result"
    }
   ],
   "source": [
    "df = df.drop(['RowNumber', 'CustomerId', 'Surname'], axis=1)\n",
    "df.columns"
   ]
  },
  {
   "cell_type": "code",
   "execution_count": 10,
   "metadata": {},
   "outputs": [
    {
     "name": "stdout",
     "output_type": "stream",
     "text": [
      "0    79.63%\n",
      "1    20.37%\n",
      "Name: Exited, dtype: object\n"
     ]
    },
    {
     "data": {
      "image/png": "[encoded data removed]",
      "text/plain": [
       "<Figure size 432x288 with 1 Axes>"
      ]
     },
     "metadata": {
      "needs_background": "light"
     },
     "output_type": "display_data"
    }
   ],
   "source": [
    "class_frequency = df['Exited'].value_counts(normalize=True)\n",
    "class_frequency.plot(kind='bar')\n",
    "print(class_frequency.apply(lambda x: '{:0.2%}'.format(x)))"
   ]
  },
  {
   "cell_type": "code",
   "execution_count": 11,
   "metadata": {},
   "outputs": [
    {
     "data": {
      "text/plain": [
       "0    Female\n",
       "1    Female\n",
       "2    Female\n",
       "3    Female\n",
       "4    Female\n",
       "5      Male\n",
       "6      Male\n",
       "7    Female\n",
       "8      Male\n",
       "9      Male\n",
       "Name: Gender, dtype: object"
      ]
     },
     "execution_count": 11,
     "metadata": {},
     "output_type": "execute_result"
    }
   ],
   "source": [
    "df['Gender'].head(10)"
   ]
  },
  {
   "cell_type": "code",
   "execution_count": 12,
   "metadata": {},
   "outputs": [
    {
     "data": {
      "text/plain": [
       "0     France\n",
       "1      Spain\n",
       "2     France\n",
       "3     France\n",
       "4      Spain\n",
       "5      Spain\n",
       "6     France\n",
       "7    Germany\n",
       "8     France\n",
       "9     France\n",
       "Name: Geography, dtype: object"
      ]
     },
     "execution_count": 12,
     "metadata": {},
     "output_type": "execute_result"
    }
   ],
   "source": [
    "df['Geography'].head(10)"
   ]
  },
  {
   "cell_type": "code",
   "execution_count": 13,
   "metadata": {},
   "outputs": [],
   "source": [
    "# выполняем кодирование категориальных признаков\n",
    "data_ohe = pd.get_dummies(df, drop_first=True)"
   ]
  },
  {
   "cell_type": "code",
   "execution_count": 14,
   "metadata": {},
   "outputs": [
    {
     "data": {
      "text/html": [
       "<div>\n",
       "<style scoped>\n",
       "    .dataframe tbody tr th:only-of-type {\n",
       "        vertical-align: middle;\n",
       "    }\n",
       "\n",
       "    .dataframe tbody tr th {\n",
       "        vertical-align: top;\n",
       "    }\n",
       "\n",
       "    .dataframe thead th {\n",
       "        text-align: right;\n",
       "    }\n",
       "</style>\n",
       "<table border=\"1\" class=\"dataframe\">\n",
       "  <thead>\n",
       "    <tr style=\"text-align: right;\">\n",
       "      <th></th>\n",
       "      <th>CreditScore</th>\n",
       "      <th>Age</th>\n",
       "      <th>Tenure</th>\n",
       "      <th>Balance</th>\n",
       "      <th>NumOfProducts</th>\n",
       "      <th>HasCrCard</th>\n",
       "      <th>IsActiveMember</th>\n",
       "      <th>EstimatedSalary</th>\n",
       "      <th>Exited</th>\n",
       "      <th>Geography_Germany</th>\n",
       "      <th>Geography_Spain</th>\n",
       "      <th>Gender_Male</th>\n",
       "    </tr>\n",
       "  </thead>\n",
       "  <tbody>\n",
       "    <tr>\n",
       "      <th>0</th>\n",
       "      <td>619</td>\n",
       "      <td>42</td>\n",
       "      <td>2.0</td>\n",
       "      <td>0.00</td>\n",
       "      <td>1</td>\n",
       "      <td>1</td>\n",
       "      <td>1</td>\n",
       "      <td>101348.88</td>\n",
       "      <td>1</td>\n",
       "      <td>0</td>\n",
       "      <td>0</td>\n",
       "      <td>0</td>\n",
       "    </tr>\n",
       "    <tr>\n",
       "      <th>1</th>\n",
       "      <td>608</td>\n",
       "      <td>41</td>\n",
       "      <td>1.0</td>\n",
       "      <td>83807.86</td>\n",
       "      <td>1</td>\n",
       "      <td>0</td>\n",
       "      <td>1</td>\n",
       "      <td>112542.58</td>\n",
       "      <td>0</td>\n",
       "      <td>0</td>\n",
       "      <td>1</td>\n",
       "      <td>0</td>\n",
       "    </tr>\n",
       "    <tr>\n",
       "      <th>2</th>\n",
       "      <td>502</td>\n",
       "      <td>42</td>\n",
       "      <td>8.0</td>\n",
       "      <td>159660.80</td>\n",
       "      <td>3</td>\n",
       "      <td>1</td>\n",
       "      <td>0</td>\n",
       "      <td>113931.57</td>\n",
       "      <td>1</td>\n",
       "      <td>0</td>\n",
       "      <td>0</td>\n",
       "      <td>0</td>\n",
       "    </tr>\n",
       "    <tr>\n",
       "      <th>3</th>\n",
       "      <td>699</td>\n",
       "      <td>39</td>\n",
       "      <td>1.0</td>\n",
       "      <td>0.00</td>\n",
       "      <td>2</td>\n",
       "      <td>0</td>\n",
       "      <td>0</td>\n",
       "      <td>93826.63</td>\n",
       "      <td>0</td>\n",
       "      <td>0</td>\n",
       "      <td>0</td>\n",
       "      <td>0</td>\n",
       "    </tr>\n",
       "    <tr>\n",
       "      <th>4</th>\n",
       "      <td>850</td>\n",
       "      <td>43</td>\n",
       "      <td>2.0</td>\n",
       "      <td>125510.82</td>\n",
       "      <td>1</td>\n",
       "      <td>1</td>\n",
       "      <td>1</td>\n",
       "      <td>79084.10</td>\n",
       "      <td>0</td>\n",
       "      <td>0</td>\n",
       "      <td>1</td>\n",
       "      <td>0</td>\n",
       "    </tr>\n",
       "    <tr>\n",
       "      <th>...</th>\n",
       "      <td>...</td>\n",
       "      <td>...</td>\n",
       "      <td>...</td>\n",
       "      <td>...</td>\n",
       "      <td>...</td>\n",
       "      <td>...</td>\n",
       "      <td>...</td>\n",
       "      <td>...</td>\n",
       "      <td>...</td>\n",
       "      <td>...</td>\n",
       "      <td>...</td>\n",
       "      <td>...</td>\n",
       "    </tr>\n",
       "    <tr>\n",
       "      <th>9995</th>\n",
       "      <td>771</td>\n",
       "      <td>39</td>\n",
       "      <td>5.0</td>\n",
       "      <td>0.00</td>\n",
       "      <td>2</td>\n",
       "      <td>1</td>\n",
       "      <td>0</td>\n",
       "      <td>96270.64</td>\n",
       "      <td>0</td>\n",
       "      <td>0</td>\n",
       "      <td>0</td>\n",
       "      <td>1</td>\n",
       "    </tr>\n",
       "    <tr>\n",
       "      <th>9996</th>\n",
       "      <td>516</td>\n",
       "      <td>35</td>\n",
       "      <td>10.0</td>\n",
       "      <td>57369.61</td>\n",
       "      <td>1</td>\n",
       "      <td>1</td>\n",
       "      <td>1</td>\n",
       "      <td>101699.77</td>\n",
       "      <td>0</td>\n",
       "      <td>0</td>\n",
       "      <td>0</td>\n",
       "      <td>1</td>\n",
       "    </tr>\n",
       "    <tr>\n",
       "      <th>9997</th>\n",
       "      <td>709</td>\n",
       "      <td>36</td>\n",
       "      <td>7.0</td>\n",
       "      <td>0.00</td>\n",
       "      <td>1</td>\n",
       "      <td>0</td>\n",
       "      <td>1</td>\n",
       "      <td>42085.58</td>\n",
       "      <td>1</td>\n",
       "      <td>0</td>\n",
       "      <td>0</td>\n",
       "      <td>0</td>\n",
       "    </tr>\n",
       "    <tr>\n",
       "      <th>9998</th>\n",
       "      <td>772</td>\n",
       "      <td>42</td>\n",
       "      <td>3.0</td>\n",
       "      <td>75075.31</td>\n",
       "      <td>2</td>\n",
       "      <td>1</td>\n",
       "      <td>0</td>\n",
       "      <td>92888.52</td>\n",
       "      <td>1</td>\n",
       "      <td>1</td>\n",
       "      <td>0</td>\n",
       "      <td>1</td>\n",
       "    </tr>\n",
       "    <tr>\n",
       "      <th>9999</th>\n",
       "      <td>792</td>\n",
       "      <td>28</td>\n",
       "      <td>0.0</td>\n",
       "      <td>130142.79</td>\n",
       "      <td>1</td>\n",
       "      <td>1</td>\n",
       "      <td>0</td>\n",
       "      <td>38190.78</td>\n",
       "      <td>0</td>\n",
       "      <td>0</td>\n",
       "      <td>0</td>\n",
       "      <td>0</td>\n",
       "    </tr>\n",
       "  </tbody>\n",
       "</table>\n",
       "<p>10000 rows × 12 columns</p>\n",
       "</div>"
      ],
      "text/plain": [
       "      CreditScore  Age  Tenure    Balance  NumOfProducts  HasCrCard  \\\n",
       "0             619   42     2.0       0.00              1          1   \n",
       "1             608   41     1.0   83807.86              1          0   \n",
       "2             502   42     8.0  159660.80              3          1   \n",
       "3             699   39     1.0       0.00              2          0   \n",
       "4             850   43     2.0  125510.82              1          1   \n",
       "...           ...  ...     ...        ...            ...        ...   \n",
       "9995          771   39     5.0       0.00              2          1   \n",
       "9996          516   35    10.0   57369.61              1          1   \n",
       "9997          709   36     7.0       0.00              1          0   \n",
       "9998          772   42     3.0   75075.31              2          1   \n",
       "9999          792   28     0.0  130142.79              1          1   \n",
       "\n",
       "      IsActiveMember  EstimatedSalary  Exited  Geography_Germany  \\\n",
       "0                  1        101348.88       1                  0   \n",
       "1                  1        112542.58       0                  0   \n",
       "2                  0        113931.57       1                  0   \n",
       "3                  0         93826.63       0                  0   \n",
       "4                  1         79084.10       0                  0   \n",
       "...              ...              ...     ...                ...   \n",
       "9995               0         96270.64       0                  0   \n",
       "9996               1        101699.77       0                  0   \n",
       "9997               1         42085.58       1                  0   \n",
       "9998               0         92888.52       1                  1   \n",
       "9999               0         38190.78       0                  0   \n",
       "\n",
       "      Geography_Spain  Gender_Male  \n",
       "0                   0            0  \n",
       "1                   1            0  \n",
       "2                   0            0  \n",
       "3                   0            0  \n",
       "4                   1            0  \n",
       "...               ...          ...  \n",
       "9995                0            1  \n",
       "9996                0            1  \n",
       "9997                0            0  \n",
       "9998                0            1  \n",
       "9999                0            0  \n",
       "\n",
       "[10000 rows x 12 columns]"
      ]
     },
     "execution_count": 14,
     "metadata": {},
     "output_type": "execute_result"
    }
   ],
   "source": [
    "data_ohe"
   ]
  },
  {
   "cell_type": "code",
   "execution_count": 15,
   "metadata": {},
   "outputs": [],
   "source": [
    "# разделяем признаки\n",
    "target = data_ohe['Exited']\n",
    "features = data_ohe.drop('Exited', axis=1)"
   ]
  },
  {
   "cell_type": "code",
   "execution_count": 16,
   "metadata": {},
   "outputs": [],
   "source": [
    "# разделяем данные на обучающую, валидационную и тестовую выборки\n",
    "features_train, features_valid_test, target_train, target_valid_test = train_test_split(\n",
    "    features, target, test_size=0.3, random_state=0)\n",
    "\n",
    "features_valid, features_test, target_valid, target_test = train_test_split(\n",
    "    features_valid_test, target_valid_test, test_size=0.5, random_state=0)"
   ]
  },
  {
   "cell_type": "code",
   "execution_count": 17,
   "metadata": {},
   "outputs": [
    {
     "data": {
      "text/plain": [
       "(7000, 11)"
      ]
     },
     "execution_count": 17,
     "metadata": {},
     "output_type": "execute_result"
    }
   ],
   "source": [
    "features_train.shape"
   ]
  },
  {
   "cell_type": "code",
   "execution_count": 18,
   "metadata": {},
   "outputs": [
    {
     "data": {
      "text/plain": [
       "(1500, 11)"
      ]
     },
     "execution_count": 18,
     "metadata": {},
     "output_type": "execute_result"
    }
   ],
   "source": [
    "features_valid.shape"
   ]
  },
  {
   "cell_type": "code",
   "execution_count": 19,
   "metadata": {},
   "outputs": [
    {
     "data": {
      "text/plain": [
       "(1500, 11)"
      ]
     },
     "execution_count": 19,
     "metadata": {},
     "output_type": "execute_result"
    }
   ],
   "source": [
    "features_test.shape"
   ]
  },
  {
   "cell_type": "code",
   "execution_count": 20,
   "metadata": {
    "scrolled": true
   },
   "outputs": [
    {
     "data": {
      "text/plain": [
       "['CreditScore',\n",
       " 'Age',\n",
       " 'Tenure',\n",
       " 'Balance',\n",
       " 'NumOfProducts',\n",
       " 'HasCrCard',\n",
       " 'IsActiveMember',\n",
       " 'EstimatedSalary']"
      ]
     },
     "execution_count": 20,
     "metadata": {},
     "output_type": "execute_result"
    }
   ],
   "source": [
    "# выделим количественные признаки\n",
    "numeric = []\n",
    "for _ in df.columns:\n",
    "    if (df[ _ ].dtype != 'object') & ( _ != 'Exited'):\n",
    "        numeric.append( _ )\n",
    "numeric"
   ]
  },
  {
   "cell_type": "code",
   "execution_count": 21,
   "metadata": {},
   "outputs": [],
   "source": [
    "pd.options.mode.chained_assignment = None\n",
    "\n",
    "# масштабирование численных признаков\n",
    "scaler = StandardScaler()\n",
    "scaler.fit(features_train[numeric])\n",
    "features_train[numeric] = scaler.transform(features_train[numeric])\n",
    "features_valid[numeric] = scaler.transform(features_valid[numeric])\n",
    "features_test[numeric] = scaler.transform(features_test[numeric])"
   ]
  },
  {
   "cell_type": "code",
   "execution_count": 22,
   "metadata": {},
   "outputs": [
    {
     "data": {
      "text/html": [
       "<div>\n",
       "<style scoped>\n",
       "    .dataframe tbody tr th:only-of-type {\n",
       "        vertical-align: middle;\n",
       "    }\n",
       "\n",
       "    .dataframe tbody tr th {\n",
       "        vertical-align: top;\n",
       "    }\n",
       "\n",
       "    .dataframe thead th {\n",
       "        text-align: right;\n",
       "    }\n",
       "</style>\n",
       "<table border=\"1\" class=\"dataframe\">\n",
       "  <thead>\n",
       "    <tr style=\"text-align: right;\">\n",
       "      <th></th>\n",
       "      <th>CreditScore</th>\n",
       "      <th>Age</th>\n",
       "      <th>Tenure</th>\n",
       "      <th>Balance</th>\n",
       "      <th>NumOfProducts</th>\n",
       "      <th>HasCrCard</th>\n",
       "      <th>IsActiveMember</th>\n",
       "      <th>EstimatedSalary</th>\n",
       "      <th>Geography_Germany</th>\n",
       "      <th>Geography_Spain</th>\n",
       "      <th>Gender_Male</th>\n",
       "    </tr>\n",
       "  </thead>\n",
       "  <tbody>\n",
       "    <tr>\n",
       "      <th>7681</th>\n",
       "      <td>-0.097921</td>\n",
       "      <td>-0.557598</td>\n",
       "      <td>-0.807370</td>\n",
       "      <td>1.132494</td>\n",
       "      <td>0.810394</td>\n",
       "      <td>0.641985</td>\n",
       "      <td>0.966835</td>\n",
       "      <td>-0.768624</td>\n",
       "      <td>0</td>\n",
       "      <td>0</td>\n",
       "      <td>1</td>\n",
       "    </tr>\n",
       "    <tr>\n",
       "      <th>9031</th>\n",
       "      <td>-1.126120</td>\n",
       "      <td>0.017259</td>\n",
       "      <td>0.801669</td>\n",
       "      <td>-1.199755</td>\n",
       "      <td>0.810394</td>\n",
       "      <td>0.641985</td>\n",
       "      <td>-1.034302</td>\n",
       "      <td>-1.393599</td>\n",
       "      <td>0</td>\n",
       "      <td>0</td>\n",
       "      <td>1</td>\n",
       "    </tr>\n",
       "    <tr>\n",
       "      <th>3691</th>\n",
       "      <td>-0.622303</td>\n",
       "      <td>3.562216</td>\n",
       "      <td>0.158054</td>\n",
       "      <td>1.368379</td>\n",
       "      <td>-0.929716</td>\n",
       "      <td>-1.557669</td>\n",
       "      <td>0.966835</td>\n",
       "      <td>-1.497393</td>\n",
       "      <td>0</td>\n",
       "      <td>0</td>\n",
       "      <td>0</td>\n",
       "    </tr>\n",
       "    <tr>\n",
       "      <th>202</th>\n",
       "      <td>-1.383170</td>\n",
       "      <td>1.071165</td>\n",
       "      <td>0.158054</td>\n",
       "      <td>-1.199755</td>\n",
       "      <td>-0.929716</td>\n",
       "      <td>-1.557669</td>\n",
       "      <td>0.966835</td>\n",
       "      <td>0.801015</td>\n",
       "      <td>0</td>\n",
       "      <td>1</td>\n",
       "      <td>1</td>\n",
       "    </tr>\n",
       "    <tr>\n",
       "      <th>5625</th>\n",
       "      <td>-1.465426</td>\n",
       "      <td>2.029262</td>\n",
       "      <td>0.801669</td>\n",
       "      <td>1.085727</td>\n",
       "      <td>-0.929716</td>\n",
       "      <td>0.641985</td>\n",
       "      <td>0.966835</td>\n",
       "      <td>0.512914</td>\n",
       "      <td>0</td>\n",
       "      <td>0</td>\n",
       "      <td>0</td>\n",
       "    </tr>\n",
       "  </tbody>\n",
       "</table>\n",
       "</div>"
      ],
      "text/plain": [
       "      CreditScore       Age    Tenure   Balance  NumOfProducts  HasCrCard  \\\n",
       "7681    -0.097921 -0.557598 -0.807370  1.132494       0.810394   0.641985   \n",
       "9031    -1.126120  0.017259  0.801669 -1.199755       0.810394   0.641985   \n",
       "3691    -0.622303  3.562216  0.158054  1.368379      -0.929716  -1.557669   \n",
       "202     -1.383170  1.071165  0.158054 -1.199755      -0.929716  -1.557669   \n",
       "5625    -1.465426  2.029262  0.801669  1.085727      -0.929716   0.641985   \n",
       "\n",
       "      IsActiveMember  EstimatedSalary  Geography_Germany  Geography_Spain  \\\n",
       "7681        0.966835        -0.768624                  0                0   \n",
       "9031       -1.034302        -1.393599                  0                0   \n",
       "3691        0.966835        -1.497393                  0                0   \n",
       "202         0.966835         0.801015                  0                1   \n",
       "5625        0.966835         0.512914                  0                0   \n",
       "\n",
       "      Gender_Male  \n",
       "7681            1  \n",
       "9031            1  \n",
       "3691            0  \n",
       "202             1  \n",
       "5625            0  "
      ]
     },
     "execution_count": 22,
     "metadata": {},
     "output_type": "execute_result"
    }
   ],
   "source": [
    "features_train.head()"
   ]
  },
  {
   "cell_type": "code",
   "execution_count": 23,
   "metadata": {},
   "outputs": [
    {
     "name": "stdout",
     "output_type": "stream",
     "text": [
      "<class 'pandas.core.frame.DataFrame'>\n",
      "Int64Index: 7000 entries, 7681 to 2732\n",
      "Data columns (total 11 columns):\n",
      " #   Column             Non-Null Count  Dtype  \n",
      "---  ------             --------------  -----  \n",
      " 0   CreditScore        7000 non-null   float64\n",
      " 1   Age                7000 non-null   float64\n",
      " 2   Tenure             7000 non-null   float64\n",
      " 3   Balance            7000 non-null   float64\n",
      " 4   NumOfProducts      7000 non-null   float64\n",
      " 5   HasCrCard          7000 non-null   float64\n",
      " 6   IsActiveMember     7000 non-null   float64\n",
      " 7   EstimatedSalary    7000 non-null   float64\n",
      " 8   Geography_Germany  7000 non-null   uint8  \n",
      " 9   Geography_Spain    7000 non-null   uint8  \n",
      " 10  Gender_Male        7000 non-null   uint8  \n",
      "dtypes: float64(8), uint8(3)\n",
      "memory usage: 512.7 KB\n"
     ]
    }
   ],
   "source": [
    "features_train.info()"
   ]
  },
  {
   "cell_type": "markdown",
   "metadata": {},
   "source": [
    "### Вывод\n",
    "|                                |                             |\n",
    "|--------------------------------|-----------------------------|\n",
    "| Количество классов             | 2                           |\n",
    "| Количество объектов в классах  | {0: 7963, 1: 2037}          |\n",
    "| Общее число объектов           | 10000                       |\n",
    "| Размерность                    | 11                          |\n",
    "| Тип признаков                  | вещественный, целочисленный |\n",
    "\n",
    "<br>\n",
    "Результатом первого этапа работы стали выборки данных, готовые к пробному циклу обучения. Дисбаланс классов может стать фактором, осложняющим процесс обучения моделей."
   ]
  },
  {
   "cell_type": "markdown",
   "metadata": {},
   "source": [
    "## Исследование задачи"
   ]
  },
  {
   "cell_type": "markdown",
   "metadata": {},
   "source": [
    "Обучим первую модель, вычислим метрику _accuracy_ на валидационной выборке."
   ]
  },
  {
   "cell_type": "code",
   "execution_count": 24,
   "metadata": {},
   "outputs": [
    {
     "name": "stdout",
     "output_type": "stream",
     "text": [
      "accuracy = 0.7853333333333333\n"
     ]
    }
   ],
   "source": [
    "model = DecisionTreeClassifier(random_state=0)\n",
    "model.fit(features_train, target_train)\n",
    "predicted_valid = model.predict(features_valid)\n",
    "accuracy_valid = accuracy_score(predicted_valid, target_valid)\n",
    "print(f'accuracy = {accuracy_valid}')"
   ]
  },
  {
   "cell_type": "code",
   "execution_count": 25,
   "metadata": {},
   "outputs": [
    {
     "data": {
      "image/png": "[encoded data removed]",
      "text/plain": [
       "<Figure size 432x288 with 2 Axes>"
      ]
     },
     "metadata": {
      "needs_background": "light"
     },
     "output_type": "display_data"
    }
   ],
   "source": [
    "# строим матрицу ошибок\n",
    "def cm_display(model, target, prediction):\n",
    "    cm = confusion_matrix(target, prediction, labels=model.classes_, normalize='true')\n",
    "    disp = ConfusionMatrixDisplay(confusion_matrix=cm, display_labels=model.classes_)\n",
    "    disp.plot(cmap='Blues')\n",
    "    plt.title('Confusion Matrix', fontsize=16)\n",
    "    plt.show()\n",
    "cm_display(model, target_valid, predicted_valid)"
   ]
  },
  {
   "cell_type": "markdown",
   "metadata": {},
   "source": [
    "Хотя модель и показала неплохое значение _accuracy_, это ещё не значит, что она хорошо работает: посмотрев на матрицу ошибок, мы можем увидеть, что модель правильно предсказывает ушедшего клиента только в 53% случаев.<br>\n",
    "<b>Промежуточный вывод:</b> нам не подходит метрика _accuracy_, как показатель качества модели; причина тому — дисбаланс классов. Впредь метрикой качества изберем _F1-меру_ — она поможет нам найти сбалансированное значение _полноты_ и _точности_."
   ]
  },
  {
   "cell_type": "code",
   "execution_count": 26,
   "metadata": {},
   "outputs": [
    {
     "name": "stdout",
     "output_type": "stream",
     "text": [
      "f1_score = 0.513595166163142\n"
     ]
    }
   ],
   "source": [
    "print('f1_score =', f1_score(target_valid, predicted_valid))"
   ]
  },
  {
   "cell_type": "markdown",
   "metadata": {},
   "source": [
    "<a id='roc_plot'></a>"
   ]
  },
  {
   "cell_type": "code",
   "execution_count": 27,
   "metadata": {},
   "outputs": [
    {
     "data": {
      "image/png": "[encoded data removed]",
      "text/plain": [
       "<Figure size 432x288 with 1 Axes>"
      ]
     },
     "metadata": {
      "needs_background": "light"
     },
     "output_type": "display_data"
    },
    {
     "name": "stdout",
     "output_type": "stream",
     "text": [
      "auc_roc = 0.6927436440677966\n"
     ]
    }
   ],
   "source": [
    "# функция roc_plot строит ROC-кривую и вычисляет площадь под ней\n",
    "def roc_plot(model, features, target):\n",
    "    \n",
    "    probabilities = model.predict_proba(features)\n",
    "    probabilities_one = probabilities[:, 1]\n",
    "\n",
    "    fpr, tpr, thresholds = roc_curve(target, probabilities_one)\n",
    "\n",
    "    plt.figure()\n",
    "    plt.plot([0, 1], [0, 1], linestyle='--')\n",
    "    plt.plot(fpr, tpr)\n",
    "    plt.xlim([0.0, 1.0])\n",
    "    plt.ylim([0.0, 1.0])\n",
    "    plt.xlabel('False Positive Rate')\n",
    "    plt.ylabel('True Positive Rate')\n",
    "    plt.title('ROC-кривая')\n",
    "    plt.show() \n",
    "\n",
    "    global auc_roc\n",
    "    auc_roc = roc_auc_score(target, probabilities_one)\n",
    "    print('auc_roc =', auc_roc)\n",
    "    \n",
    "roc_plot(model, features_valid, target_valid)"
   ]
  },
  {
   "cell_type": "markdown",
   "metadata": {},
   "source": [
    "### Вывод\n",
    "Модель, обученная без учёта дисбаланса, имеет невысокие показатели качества: $\\text{f1}\\_\\text{score}\\approx0.51;$ $\\text{auc}\\_\\text{roc}\\approx0.69$.<br>\n",
    "На следующем этапе применим техники по борьбе с дисбалансом классов. "
   ]
  },
  {
   "cell_type": "markdown",
   "metadata": {},
   "source": [
    "## Борьба с дисбалансом"
   ]
  },
  {
   "cell_type": "markdown",
   "metadata": {},
   "source": [
    "### Взвешивание классов"
   ]
  },
  {
   "cell_type": "code",
   "execution_count": 28,
   "metadata": {},
   "outputs": [],
   "source": [
    "technique = 'weighting'"
   ]
  },
  {
   "cell_type": "markdown",
   "metadata": {},
   "source": [
    "#### Случайный лес"
   ]
  },
  {
   "cell_type": "code",
   "execution_count": 29,
   "metadata": {},
   "outputs": [
    {
     "name": "stdout",
     "output_type": "stream",
     "text": [
      "f1_score = 0.5746691871455577\n"
     ]
    }
   ],
   "source": [
    "model = RandomForestClassifier(random_state=0, class_weight='balanced')\n",
    "model.fit(features_train, target_train)\n",
    "predicted_valid = model.predict(features_valid)\n",
    "f1 = f1_score(target_valid, predicted_valid)\n",
    "\n",
    "print('f1_score =', f1)"
   ]
  },
  {
   "cell_type": "code",
   "execution_count": 30,
   "metadata": {},
   "outputs": [
    {
     "data": {
      "image/png": "[encoded data removed]",
      "text/plain": [
       "<Figure size 432x288 with 2 Axes>"
      ]
     },
     "metadata": {
      "needs_background": "light"
     },
     "output_type": "display_data"
    }
   ],
   "source": [
    "cm_display(model, target_valid, predicted_valid)"
   ]
  },
  {
   "cell_type": "code",
   "execution_count": 31,
   "metadata": {},
   "outputs": [
    {
     "name": "stdout",
     "output_type": "stream",
     "text": [
      "precision=0.7272727272727273\n",
      "recall=0.475\n"
     ]
    }
   ],
   "source": [
    "print(f'precision={precision_score(target_valid, predicted_valid)}\\nrecall={recall_score(target_valid, predicted_valid)}')"
   ]
  },
  {
   "cell_type": "code",
   "execution_count": 32,
   "metadata": {},
   "outputs": [
    {
     "data": {
      "image/png": "[encoded data removed]",
      "text/plain": [
       "<Figure size 432x288 with 1 Axes>"
      ]
     },
     "metadata": {
      "needs_background": "light"
     },
     "output_type": "display_data"
    },
    {
     "name": "stdout",
     "output_type": "stream",
     "text": [
      "auc_roc = 0.860021186440678\n"
     ]
    }
   ],
   "source": [
    "roc_plot(model, features_valid, target_valid)"
   ]
  },
  {
   "cell_type": "code",
   "execution_count": 33,
   "metadata": {},
   "outputs": [],
   "source": [
    "models = {0: {'configuration': model, 'f1': f1, 'auc_roc': auc_roc, 'technique': technique}}"
   ]
  },
  {
   "cell_type": "markdown",
   "metadata": {},
   "source": [
    "### Увеличение выборки"
   ]
  },
  {
   "cell_type": "code",
   "execution_count": 34,
   "metadata": {},
   "outputs": [],
   "source": [
    "technique = 'upsampling'"
   ]
  },
  {
   "cell_type": "markdown",
   "metadata": {},
   "source": [
    "#### Случайный лес"
   ]
  },
  {
   "cell_type": "code",
   "execution_count": 35,
   "metadata": {},
   "outputs": [],
   "source": [
    "def upsample(features, target, repeat):\n",
    "    features_zeros = features[target == 0]\n",
    "    features_ones = features[target == 1]\n",
    "    target_zeros = target[target == 0]\n",
    "    target_ones = target[target == 1]\n",
    "\n",
    "    features_upsampled = pd.concat([features_zeros] + [features_ones] * repeat)\n",
    "    target_upsampled = pd.concat([target_zeros] + [target_ones] * repeat)\n",
    "    \n",
    "    features_upsampled, target_upsampled = shuffle(\n",
    "        features_upsampled, target_upsampled, random_state=0)\n",
    "    \n",
    "    return features_upsampled, target_upsampled\n",
    "\n",
    "features_train_upsampled, target_train_upsampled = upsample(features_train, target_train, 4)"
   ]
  },
  {
   "cell_type": "code",
   "execution_count": 36,
   "metadata": {},
   "outputs": [
    {
     "name": "stdout",
     "output_type": "stream",
     "text": [
      "f1_score = 0.6254180602006689\n"
     ]
    }
   ],
   "source": [
    "model = RandomForestClassifier(random_state=0)\n",
    "model.fit(features_train_upsampled, target_train_upsampled)\n",
    "predicted_valid = model.predict(features_valid)\n",
    "f1 = f1_score(target_valid, predicted_valid)\n",
    "\n",
    "print('f1_score =', f1)"
   ]
  },
  {
   "cell_type": "code",
   "execution_count": 37,
   "metadata": {},
   "outputs": [
    {
     "data": {
      "image/png": "[encoded data removed]",
      "text/plain": [
       "<Figure size 432x288 with 2 Axes>"
      ]
     },
     "metadata": {
      "needs_background": "light"
     },
     "output_type": "display_data"
    }
   ],
   "source": [
    "cm_display(model, target_valid, predicted_valid)"
   ]
  },
  {
   "cell_type": "code",
   "execution_count": 38,
   "metadata": {},
   "outputs": [
    {
     "name": "stdout",
     "output_type": "stream",
     "text": [
      "precision=0.6726618705035972\n",
      "recall=0.584375\n"
     ]
    }
   ],
   "source": [
    "print(f'precision={precision_score(target_valid, predicted_valid)}\\nrecall={recall_score(target_valid, predicted_valid)}')"
   ]
  },
  {
   "cell_type": "code",
   "execution_count": 39,
   "metadata": {},
   "outputs": [
    {
     "data": {
      "image/png": "[encoded data removed]",
      "text/plain": [
       "<Figure size 432x288 with 1 Axes>"
      ]
     },
     "metadata": {
      "needs_background": "light"
     },
     "output_type": "display_data"
    },
    {
     "name": "stdout",
     "output_type": "stream",
     "text": [
      "auc_roc = 0.8602290783898305\n"
     ]
    }
   ],
   "source": [
    "roc_plot(model, features_valid, target_valid)"
   ]
  },
  {
   "cell_type": "code",
   "execution_count": 40,
   "metadata": {},
   "outputs": [],
   "source": [
    "models.update({2: {'configuration': model, 'f1': f1, 'auc_roc': auc_roc, 'technique': technique}})"
   ]
  },
  {
   "cell_type": "markdown",
   "metadata": {},
   "source": [
    "#### Логистическая регрессия"
   ]
  },
  {
   "cell_type": "code",
   "execution_count": 41,
   "metadata": {},
   "outputs": [
    {
     "name": "stdout",
     "output_type": "stream",
     "text": [
      "f1_score = 0.5152838427947598\n"
     ]
    }
   ],
   "source": [
    "model = LogisticRegression(random_state=0, solver='lbfgs', max_iter=1000)\n",
    "model.fit(features_train_upsampled, target_train_upsampled)\n",
    "predicted_valid = model.predict(features_valid)\n",
    "f1 = f1_score(target_valid, predicted_valid)\n",
    "\n",
    "print('f1_score =', f1)"
   ]
  },
  {
   "cell_type": "code",
   "execution_count": 42,
   "metadata": {},
   "outputs": [
    {
     "data": {
      "image/png": "[encoded data removed]",
      "text/plain": [
       "<Figure size 432x288 with 2 Axes>"
      ]
     },
     "metadata": {
      "needs_background": "light"
     },
     "output_type": "display_data"
    }
   ],
   "source": [
    "cm_display(model, target_valid, predicted_valid)"
   ]
  },
  {
   "cell_type": "code",
   "execution_count": 43,
   "metadata": {},
   "outputs": [
    {
     "name": "stdout",
     "output_type": "stream",
     "text": [
      "precision=0.3959731543624161\n",
      "recall=0.7375\n"
     ]
    }
   ],
   "source": [
    "print(f'precision={precision_score(target_valid, predicted_valid)}\\nrecall={recall_score(target_valid, predicted_valid)}')"
   ]
  },
  {
   "cell_type": "code",
   "execution_count": 44,
   "metadata": {},
   "outputs": [
    {
     "data": {
      "image/png": "[encoded data removed]",
      "text/plain": [
       "<Figure size 432x288 with 1 Axes>"
      ]
     },
     "metadata": {
      "needs_background": "light"
     },
     "output_type": "display_data"
    },
    {
     "name": "stdout",
     "output_type": "stream",
     "text": [
      "auc_roc = 0.7681408898305084\n"
     ]
    }
   ],
   "source": [
    "roc_plot(model, features_valid, target_valid)"
   ]
  },
  {
   "cell_type": "code",
   "execution_count": 45,
   "metadata": {},
   "outputs": [],
   "source": [
    "models.update({3: {'configuration': model, 'f1': f1, 'auc_roc': auc_roc, 'technique': technique}})"
   ]
  },
  {
   "cell_type": "markdown",
   "metadata": {},
   "source": [
    "### Уменьшение выборки"
   ]
  },
  {
   "cell_type": "code",
   "execution_count": 46,
   "metadata": {},
   "outputs": [],
   "source": [
    "technique = 'downsampling'"
   ]
  },
  {
   "cell_type": "markdown",
   "metadata": {},
   "source": [
    "#### Случайный лес"
   ]
  },
  {
   "cell_type": "code",
   "execution_count": 47,
   "metadata": {},
   "outputs": [],
   "source": [
    "def downsample(features, target, fraction):\n",
    "    features_zeros = features[target == 0]\n",
    "    features_ones = features[target == 1]\n",
    "    target_zeros = target[target == 0]\n",
    "    target_ones = target[target == 1]\n",
    "\n",
    "    features_downsampled = pd.concat(\n",
    "        [features_zeros.sample(frac=fraction, random_state=0)] + [features_ones])\n",
    "    target_downsampled = pd.concat(\n",
    "        [target_zeros.sample(frac=fraction, random_state=0)] + [target_ones])\n",
    "    \n",
    "    features_downsampled, target_downsampled = shuffle(\n",
    "        features_downsampled, target_downsampled, random_state=0)\n",
    "    \n",
    "    return features_downsampled, target_downsampled\n",
    "\n",
    "features_train_downsampled, target_train_downsampled = downsample(features_train, target_train, 0.2545)"
   ]
  },
  {
   "cell_type": "code",
   "execution_count": 48,
   "metadata": {},
   "outputs": [
    {
     "data": {
      "text/plain": [
       "0    0.500881\n",
       "1    0.499119\n",
       "Name: Exited, dtype: float64"
      ]
     },
     "execution_count": 48,
     "metadata": {},
     "output_type": "execute_result"
    }
   ],
   "source": [
    "target_train_downsampled.value_counts(normalize=True)"
   ]
  },
  {
   "cell_type": "code",
   "execution_count": 49,
   "metadata": {},
   "outputs": [
    {
     "name": "stdout",
     "output_type": "stream",
     "text": [
      "f1_score = 0.5976190476190476\n"
     ]
    }
   ],
   "source": [
    "model = RandomForestClassifier(random_state=0)\n",
    "model.fit(features_train_downsampled, target_train_downsampled)\n",
    "predicted_valid = model.predict(features_valid)\n",
    "f1 = f1_score(target_valid, predicted_valid)\n",
    "\n",
    "print('f1_score =', f1)"
   ]
  },
  {
   "cell_type": "code",
   "execution_count": 50,
   "metadata": {},
   "outputs": [
    {
     "data": {
      "image/png": "[encoded data removed]",
      "text/plain": [
       "<Figure size 432x288 with 2 Axes>"
      ]
     },
     "metadata": {
      "needs_background": "light"
     },
     "output_type": "display_data"
    }
   ],
   "source": [
    "cm_display(model, target_valid, predicted_valid)"
   ]
  },
  {
   "cell_type": "code",
   "execution_count": 51,
   "metadata": {},
   "outputs": [
    {
     "name": "stdout",
     "output_type": "stream",
     "text": [
      "precision=0.4826923076923077\n",
      "recall=0.784375\n"
     ]
    }
   ],
   "source": [
    "print(f'precision={precision_score(target_valid, predicted_valid)}\\nrecall={recall_score(target_valid, predicted_valid)}')"
   ]
  },
  {
   "cell_type": "code",
   "execution_count": 52,
   "metadata": {},
   "outputs": [
    {
     "data": {
      "image/png": "[encoded data removed]",
      "text/plain": [
       "<Figure size 432x288 with 1 Axes>"
      ]
     },
     "metadata": {
      "needs_background": "light"
     },
     "output_type": "display_data"
    },
    {
     "name": "stdout",
     "output_type": "stream",
     "text": [
      "auc_roc = 0.8565307203389831\n"
     ]
    }
   ],
   "source": [
    "roc_plot(model, features_valid, target_valid)"
   ]
  },
  {
   "cell_type": "code",
   "execution_count": 53,
   "metadata": {},
   "outputs": [],
   "source": [
    "models.update({4: {'configuration': model, 'f1': f1, 'auc_roc': auc_roc, 'technique': technique}})"
   ]
  },
  {
   "cell_type": "markdown",
   "metadata": {},
   "source": [
    "#### Логистическая регрессия"
   ]
  },
  {
   "cell_type": "code",
   "execution_count": 54,
   "metadata": {},
   "outputs": [
    {
     "name": "stdout",
     "output_type": "stream",
     "text": [
      "f1_score = 0.5108695652173912\n"
     ]
    }
   ],
   "source": [
    "model = LogisticRegression(random_state=0, solver='lbfgs', max_iter=1000)\n",
    "model.fit(features_train_downsampled, target_train_downsampled)\n",
    "predicted_valid = model.predict(features_valid)\n",
    "f1 = f1_score(target_valid, predicted_valid)\n",
    "\n",
    "print('f1_score =', f1)"
   ]
  },
  {
   "cell_type": "code",
   "execution_count": 55,
   "metadata": {},
   "outputs": [
    {
     "data": {
      "image/png": "[encoded data removed]",
      "text/plain": [
       "<Figure size 432x288 with 2 Axes>"
      ]
     },
     "metadata": {
      "needs_background": "light"
     },
     "output_type": "display_data"
    }
   ],
   "source": [
    "cm_display(model, target_valid, predicted_valid)"
   ]
  },
  {
   "cell_type": "code",
   "execution_count": 56,
   "metadata": {},
   "outputs": [
    {
     "name": "stdout",
     "output_type": "stream",
     "text": [
      "precision=0.39166666666666666\n",
      "recall=0.734375\n"
     ]
    }
   ],
   "source": [
    "print(f'precision={precision_score(target_valid, predicted_valid)}\\nrecall={recall_score(target_valid, predicted_valid)}')"
   ]
  },
  {
   "cell_type": "code",
   "execution_count": 57,
   "metadata": {},
   "outputs": [
    {
     "data": {
      "image/png": "[encoded data removed]",
      "text/plain": [
       "<Figure size 432x288 with 1 Axes>"
      ]
     },
     "metadata": {
      "needs_background": "light"
     },
     "output_type": "display_data"
    },
    {
     "name": "stdout",
     "output_type": "stream",
     "text": [
      "auc_roc = 0.765561440677966\n"
     ]
    }
   ],
   "source": [
    "roc_plot(model, features_valid, target_valid)"
   ]
  },
  {
   "cell_type": "code",
   "execution_count": 58,
   "metadata": {},
   "outputs": [],
   "source": [
    "models.update({5: {'configuration': model, 'f1': f1, 'auc_roc': auc_roc, 'technique': technique}})"
   ]
  },
  {
   "cell_type": "markdown",
   "metadata": {},
   "source": [
    "### Вывод"
   ]
  },
  {
   "cell_type": "code",
   "execution_count": 59,
   "metadata": {},
   "outputs": [
    {
     "data": {
      "text/html": [
       "<div>\n",
       "<style scoped>\n",
       "    .dataframe tbody tr th:only-of-type {\n",
       "        vertical-align: middle;\n",
       "    }\n",
       "\n",
       "    .dataframe tbody tr th {\n",
       "        vertical-align: top;\n",
       "    }\n",
       "\n",
       "    .dataframe thead th {\n",
       "        text-align: right;\n",
       "    }\n",
       "</style>\n",
       "<table border=\"1\" class=\"dataframe\">\n",
       "  <thead>\n",
       "    <tr style=\"text-align: right;\">\n",
       "      <th></th>\n",
       "      <th>configuration</th>\n",
       "      <th>f1</th>\n",
       "      <th>auc_roc</th>\n",
       "      <th>technique</th>\n",
       "    </tr>\n",
       "  </thead>\n",
       "  <tbody>\n",
       "    <tr>\n",
       "      <th>0</th>\n",
       "      <td>(DecisionTreeClassifier(max_features='auto', r...</td>\n",
       "      <td>0.574669</td>\n",
       "      <td>0.860021</td>\n",
       "      <td>weighting</td>\n",
       "    </tr>\n",
       "    <tr>\n",
       "      <th>2</th>\n",
       "      <td>(DecisionTreeClassifier(max_features='auto', r...</td>\n",
       "      <td>0.625418</td>\n",
       "      <td>0.860229</td>\n",
       "      <td>upsampling</td>\n",
       "    </tr>\n",
       "    <tr>\n",
       "      <th>3</th>\n",
       "      <td>LogisticRegression(max_iter=1000, random_state=0)</td>\n",
       "      <td>0.515284</td>\n",
       "      <td>0.768141</td>\n",
       "      <td>upsampling</td>\n",
       "    </tr>\n",
       "    <tr>\n",
       "      <th>4</th>\n",
       "      <td>(DecisionTreeClassifier(max_features='auto', r...</td>\n",
       "      <td>0.597619</td>\n",
       "      <td>0.856531</td>\n",
       "      <td>downsampling</td>\n",
       "    </tr>\n",
       "    <tr>\n",
       "      <th>5</th>\n",
       "      <td>LogisticRegression(max_iter=1000, random_state=0)</td>\n",
       "      <td>0.51087</td>\n",
       "      <td>0.765561</td>\n",
       "      <td>downsampling</td>\n",
       "    </tr>\n",
       "  </tbody>\n",
       "</table>\n",
       "</div>"
      ],
      "text/plain": [
       "                                       configuration        f1   auc_roc  \\\n",
       "0  (DecisionTreeClassifier(max_features='auto', r...  0.574669  0.860021   \n",
       "2  (DecisionTreeClassifier(max_features='auto', r...  0.625418  0.860229   \n",
       "3  LogisticRegression(max_iter=1000, random_state=0)  0.515284  0.768141   \n",
       "4  (DecisionTreeClassifier(max_features='auto', r...  0.597619  0.856531   \n",
       "5  LogisticRegression(max_iter=1000, random_state=0)   0.51087  0.765561   \n",
       "\n",
       "      technique  \n",
       "0     weighting  \n",
       "2    upsampling  \n",
       "3    upsampling  \n",
       "4  downsampling  \n",
       "5  downsampling  "
      ]
     },
     "execution_count": 59,
     "metadata": {},
     "output_type": "execute_result"
    }
   ],
   "source": [
    "models_comparison = pd.DataFrame(models).T\n",
    "models_comparison"
   ]
  },
  {
   "cell_type": "code",
   "execution_count": 60,
   "metadata": {},
   "outputs": [
    {
     "data": {
      "text/html": [
       "<div>\n",
       "<style scoped>\n",
       "    .dataframe tbody tr th:only-of-type {\n",
       "        vertical-align: middle;\n",
       "    }\n",
       "\n",
       "    .dataframe tbody tr th {\n",
       "        vertical-align: top;\n",
       "    }\n",
       "\n",
       "    .dataframe thead th {\n",
       "        text-align: right;\n",
       "    }\n",
       "</style>\n",
       "<table border=\"1\" class=\"dataframe\">\n",
       "  <thead>\n",
       "    <tr style=\"text-align: right;\">\n",
       "      <th></th>\n",
       "      <th>configuration</th>\n",
       "      <th>f1</th>\n",
       "      <th>auc_roc</th>\n",
       "      <th>technique</th>\n",
       "    </tr>\n",
       "  </thead>\n",
       "  <tbody>\n",
       "    <tr>\n",
       "      <th>2</th>\n",
       "      <td>(DecisionTreeClassifier(max_features='auto', r...</td>\n",
       "      <td>0.625418</td>\n",
       "      <td>0.860229</td>\n",
       "      <td>upsampling</td>\n",
       "    </tr>\n",
       "  </tbody>\n",
       "</table>\n",
       "</div>"
      ],
      "text/plain": [
       "                                       configuration        f1   auc_roc  \\\n",
       "2  (DecisionTreeClassifier(max_features='auto', r...  0.625418  0.860229   \n",
       "\n",
       "    technique  \n",
       "2  upsampling  "
      ]
     },
     "execution_count": 60,
     "metadata": {},
     "output_type": "execute_result"
    }
   ],
   "source": [
    "best_model = models_comparison[models_comparison['f1'] == models_comparison['f1'].max()]\n",
    "best_model"
   ]
  },
  {
   "cell_type": "markdown",
   "metadata": {},
   "source": [
    "## Подбор оптимальных гиперпараметров"
   ]
  },
  {
   "cell_type": "code",
   "execution_count": 61,
   "metadata": {},
   "outputs": [],
   "source": [
    "model = RandomForestClassifier(random_state=0)"
   ]
  },
  {
   "cell_type": "code",
   "execution_count": 62,
   "metadata": {},
   "outputs": [],
   "source": [
    "params = { \n",
    "    'n_estimators': range(1, 101, 10),\n",
    "    'max_depth' : range(1, 12) }"
   ]
  },
  {
   "cell_type": "code",
   "execution_count": 63,
   "metadata": {},
   "outputs": [
    {
     "name": "stdout",
     "output_type": "stream",
     "text": [
      "CPU times: total: 2min 59s\n",
      "Wall time: 2min 59s\n"
     ]
    },
    {
     "data": {
      "text/plain": [
       "GridSearchCV(cv=5, estimator=RandomForestClassifier(random_state=0),\n",
       "             param_grid={'max_depth': range(1, 12),\n",
       "                         'n_estimators': range(1, 101, 10)},\n",
       "             scoring='f1')"
      ]
     },
     "execution_count": 63,
     "metadata": {},
     "output_type": "execute_result"
    }
   ],
   "source": [
    "%%time\n",
    "\n",
    "grid = GridSearchCV(estimator=model, param_grid=params, cv=5, scoring='f1')\n",
    "grid.fit(features_train_upsampled, target_train_upsampled)"
   ]
  },
  {
   "cell_type": "code",
   "execution_count": 64,
   "metadata": {},
   "outputs": [
    {
     "data": {
      "text/plain": [
       "{'max_depth': 11, 'n_estimators': 81}"
      ]
     },
     "execution_count": 64,
     "metadata": {},
     "output_type": "execute_result"
    }
   ],
   "source": [
    "grid.best_params_"
   ]
  },
  {
   "cell_type": "code",
   "execution_count": 65,
   "metadata": {},
   "outputs": [
    {
     "name": "stdout",
     "output_type": "stream",
     "text": [
      "f1_score = 0.624484181568088\n"
     ]
    }
   ],
   "source": [
    "final_model = grid.best_estimator_\n",
    "predicted_valid = final_model.predict(features_valid)\n",
    "f1 = f1_score(target_valid, predicted_valid)\n",
    "\n",
    "print('f1_score =', f1)"
   ]
  },
  {
   "cell_type": "markdown",
   "metadata": {},
   "source": [
    "## Тестирование модели"
   ]
  },
  {
   "cell_type": "markdown",
   "metadata": {},
   "source": [
    "Проведем повторный цикл обучения наиболее удачной модели, используя теперь валидационую и тренировочную выборки вместе."
   ]
  },
  {
   "cell_type": "code",
   "execution_count": 66,
   "metadata": {},
   "outputs": [],
   "source": [
    "features_train, target_train = pd.concat([features_train, features_valid]), pd.concat([target_train, target_valid])"
   ]
  },
  {
   "cell_type": "code",
   "execution_count": 67,
   "metadata": {},
   "outputs": [],
   "source": [
    "features_train_upsampled, target_train_upsampled = upsample(features_train, target_train, 4)"
   ]
  },
  {
   "cell_type": "code",
   "execution_count": 68,
   "metadata": {},
   "outputs": [
    {
     "data": {
      "text/plain": [
       "RandomForestClassifier(max_depth=11, n_estimators=81, random_state=0)"
      ]
     },
     "execution_count": 68,
     "metadata": {},
     "output_type": "execute_result"
    }
   ],
   "source": [
    "final_model.fit(features_train_upsampled, target_train_upsampled)"
   ]
  },
  {
   "cell_type": "code",
   "execution_count": 69,
   "metadata": {},
   "outputs": [
    {
     "name": "stdout",
     "output_type": "stream",
     "text": [
      "f1_score = 0.6255380200860832\n"
     ]
    }
   ],
   "source": [
    "# финальное тестирование\n",
    "prediction = final_model.predict(features_test)\n",
    "print('f1_score =', f1_score(target_test, prediction))"
   ]
  },
  {
   "cell_type": "code",
   "execution_count": 70,
   "metadata": {},
   "outputs": [
    {
     "data": {
      "image/png": "[encoded data removed]",
      "text/plain": [
       "<Figure size 432x288 with 2 Axes>"
      ]
     },
     "metadata": {
      "needs_background": "light"
     },
     "output_type": "display_data"
    }
   ],
   "source": [
    "cm_display(final_model, target_test, prediction)"
   ]
  },
  {
   "cell_type": "code",
   "execution_count": 71,
   "metadata": {},
   "outputs": [
    {
     "data": {
      "image/png": "[encoded data removed]",
      "text/plain": [
       "<Figure size 432x288 with 1 Axes>"
      ]
     },
     "metadata": {
      "needs_background": "light"
     },
     "output_type": "display_data"
    },
    {
     "name": "stdout",
     "output_type": "stream",
     "text": [
      "auc_roc = 0.8759098806037144\n"
     ]
    }
   ],
   "source": [
    "roc_plot(final_model, features_test, target_test)"
   ]
  },
  {
   "cell_type": "markdown",
   "metadata": {},
   "source": [
    "## Общий вывод\n",
    "Целью работы было построение модели с показателем F1-меры не менее 0.59 — этого удалось достичь. Успешное решение задачи классификации было получено благодаря применению техник по устранению дисбаланса классов: _взвешивание_ и _увеличение/уменьшение выборок_. Было изучено влияние каждой из техник на две модели: **LogisticRegression** и **RandomForest**. В работе логистической регрессии можно отметить высокие показатели _полноты_, в то время как показатели качества случайного леса оказались ближе к балансу _полноты/точности_.\n",
    "<br>\n",
    "\n",
    "Модель <b>RandomForest</b>, в своей финальной конфигурации, на тестовой выборке показала следующие результаты: $\\text{f1}\\_\\text{score}\\approx0.625;$ $\\text{auc}\\_\\text{roc}\\approx0.876$."
   ]
  }
 ],
 "metadata": {
  "ExecuteTimeLog": [
   {
    "duration": 2430,
    "start_time": "2022-04-25T11:06:08.417Z"
   },
   {
    "duration": 214,
    "start_time": "2022-04-25T11:06:10.850Z"
   },
   {
    "duration": 26,
    "start_time": "2022-04-25T11:06:11.066Z"
   },
   {
    "duration": 20,
    "start_time": "2022-04-25T11:06:11.095Z"
   },
   {
    "duration": 20,
    "start_time": "2022-04-25T11:06:11.117Z"
   },
   {
    "duration": 8,
    "start_time": "2022-04-25T11:06:11.139Z"
   },
   {
    "duration": 7,
    "start_time": "2022-04-25T11:06:11.150Z"
   },
   {
    "duration": 19,
    "start_time": "2022-04-25T11:06:11.160Z"
   },
   {
    "duration": 52,
    "start_time": "2022-04-25T11:06:11.181Z"
   },
   {
    "duration": 213,
    "start_time": "2022-04-25T11:06:11.239Z"
   },
   {
    "duration": 8,
    "start_time": "2022-04-25T11:06:11.455Z"
   },
   {
    "duration": 10,
    "start_time": "2022-04-25T11:06:11.465Z"
   },
   {
    "duration": 17,
    "start_time": "2022-04-25T11:06:11.477Z"
   },
   {
    "duration": 35,
    "start_time": "2022-04-25T11:06:11.527Z"
   },
   {
    "duration": 7,
    "start_time": "2022-04-25T11:06:11.565Z"
   },
   {
    "duration": 11,
    "start_time": "2022-04-25T11:06:11.574Z"
   },
   {
    "duration": 6,
    "start_time": "2022-04-25T11:06:11.587Z"
   },
   {
    "duration": 43,
    "start_time": "2022-04-25T11:06:11.595Z"
   },
   {
    "duration": 6,
    "start_time": "2022-04-25T11:06:11.643Z"
   },
   {
    "duration": 9,
    "start_time": "2022-04-25T11:06:11.651Z"
   },
   {
    "duration": 80,
    "start_time": "2022-04-25T11:06:11.662Z"
   },
   {
    "duration": 19,
    "start_time": "2022-04-25T11:06:11.744Z"
   },
   {
    "duration": 16,
    "start_time": "2022-04-25T11:06:11.765Z"
   },
   {
    "duration": 81,
    "start_time": "2022-04-25T11:06:11.783Z"
   },
   {
    "duration": 253,
    "start_time": "2022-04-25T11:06:11.866Z"
   },
   {
    "duration": 9,
    "start_time": "2022-04-25T11:06:12.121Z"
   },
   {
    "duration": 218,
    "start_time": "2022-04-25T11:06:12.132Z"
   },
   {
    "duration": 4,
    "start_time": "2022-04-25T11:06:12.357Z"
   },
   {
    "duration": 1224,
    "start_time": "2022-04-25T11:06:12.363Z"
   },
   {
    "duration": 258,
    "start_time": "2022-04-25T11:06:13.589Z"
   },
   {
    "duration": 4,
    "start_time": "2022-04-25T11:06:13.849Z"
   },
   {
    "duration": 388,
    "start_time": "2022-04-25T11:06:13.856Z"
   },
   {
    "duration": 629,
    "start_time": "2022-04-25T11:06:14.247Z"
   },
   {
    "duration": 4,
    "start_time": "2022-04-25T11:06:14.879Z"
   },
   {
    "duration": 7,
    "start_time": "2022-04-25T11:06:14.885Z"
   },
   {
    "duration": 39,
    "start_time": "2022-04-25T11:06:14.894Z"
   },
   {
    "duration": 1595,
    "start_time": "2022-04-25T11:06:14.935Z"
   },
   {
    "duration": 268,
    "start_time": "2022-04-25T11:06:16.534Z"
   },
   {
    "duration": 5,
    "start_time": "2022-04-25T11:06:16.804Z"
   },
   {
    "duration": 421,
    "start_time": "2022-04-25T11:06:16.826Z"
   },
   {
    "duration": 461,
    "start_time": "2022-04-25T11:06:17.252Z"
   },
   {
    "duration": 14,
    "start_time": "2022-04-25T11:06:17.716Z"
   },
   {
    "duration": 20,
    "start_time": "2022-04-25T11:06:17.733Z"
   },
   {
    "duration": 24,
    "start_time": "2022-04-25T11:06:17.755Z"
   },
   {
    "duration": 1186,
    "start_time": "2022-04-25T11:06:17.782Z"
   },
   {
    "duration": 254,
    "start_time": "2022-04-25T11:06:18.970Z"
   },
   {
    "duration": 4,
    "start_time": "2022-04-25T11:06:19.229Z"
   },
   {
    "duration": 798,
    "start_time": "2022-04-25T11:06:19.236Z"
   },
   {
    "duration": 367,
    "start_time": "2022-04-25T11:06:20.039Z"
   },
   {
    "duration": 137,
    "start_time": "2022-04-25T11:06:20.408Z"
   },
   {
    "duration": 196,
    "start_time": "2022-04-25T11:06:20.548Z"
   },
   {
    "duration": 81,
    "start_time": "2022-04-25T11:06:20.746Z"
   },
   {
    "duration": 7,
    "start_time": "2022-04-25T11:06:20.829Z"
   },
   {
    "duration": 33,
    "start_time": "2022-04-25T11:06:20.839Z"
   },
   {
    "duration": 1105,
    "start_time": "2022-04-25T11:06:20.874Z"
   },
   {
    "duration": 72,
    "start_time": "2022-04-25T11:06:21.982Z"
   },
   {
    "duration": 258,
    "start_time": "2022-04-25T11:06:22.056Z"
   },
   {
    "duration": 15,
    "start_time": "2022-04-25T11:09:06.181Z"
   },
   {
    "duration": 13,
    "start_time": "2022-04-25T11:09:09.668Z"
   },
   {
    "duration": 107,
    "start_time": "2022-04-25T11:10:11.148Z"
   },
   {
    "duration": 18,
    "start_time": "2022-04-25T11:10:26.687Z"
   },
   {
    "duration": 5,
    "start_time": "2022-04-25T11:13:01.299Z"
   },
   {
    "duration": 6,
    "start_time": "2022-04-25T11:13:11.952Z"
   },
   {
    "duration": 5,
    "start_time": "2022-04-25T11:13:15.854Z"
   },
   {
    "duration": 5,
    "start_time": "2022-04-25T11:13:18.990Z"
   },
   {
    "duration": 8,
    "start_time": "2022-04-25T11:17:08.483Z"
   },
   {
    "duration": 7,
    "start_time": "2022-04-25T11:17:18.601Z"
   },
   {
    "duration": 8,
    "start_time": "2022-04-25T11:17:28.092Z"
   },
   {
    "duration": 6,
    "start_time": "2022-04-25T11:23:54.042Z"
   },
   {
    "duration": 6,
    "start_time": "2022-04-25T11:24:09.393Z"
   },
   {
    "duration": 15,
    "start_time": "2022-04-25T11:24:39.265Z"
   },
   {
    "duration": 6,
    "start_time": "2022-04-25T11:24:39.802Z"
   },
   {
    "duration": 9,
    "start_time": "2022-04-25T11:24:52.024Z"
   },
   {
    "duration": 16,
    "start_time": "2022-04-25T11:24:57.943Z"
   },
   {
    "duration": 9,
    "start_time": "2022-04-25T11:24:58.521Z"
   },
   {
    "duration": 8,
    "start_time": "2022-04-25T11:29:57.099Z"
   },
   {
    "duration": 8,
    "start_time": "2022-04-25T11:30:27.143Z"
   },
   {
    "duration": 8,
    "start_time": "2022-04-25T11:30:39.505Z"
   },
   {
    "duration": 1585,
    "start_time": "2022-04-27T15:57:44.281Z"
   },
   {
    "duration": 73,
    "start_time": "2022-04-27T15:57:45.869Z"
   },
   {
    "duration": 17,
    "start_time": "2022-04-27T15:57:45.943Z"
   },
   {
    "duration": 12,
    "start_time": "2022-04-27T15:57:45.961Z"
   },
   {
    "duration": 10,
    "start_time": "2022-04-27T15:57:45.975Z"
   },
   {
    "duration": 4,
    "start_time": "2022-04-27T15:57:45.987Z"
   },
   {
    "duration": 11,
    "start_time": "2022-04-27T15:57:45.992Z"
   },
   {
    "duration": 14,
    "start_time": "2022-04-27T15:57:46.004Z"
   },
   {
    "duration": 6,
    "start_time": "2022-04-27T15:57:46.020Z"
   },
   {
    "duration": 145,
    "start_time": "2022-04-27T15:57:46.028Z"
   },
   {
    "duration": 6,
    "start_time": "2022-04-27T15:57:46.174Z"
   },
   {
    "duration": 10,
    "start_time": "2022-04-27T15:57:46.181Z"
   },
   {
    "duration": 14,
    "start_time": "2022-04-27T15:57:46.192Z"
   },
   {
    "duration": 18,
    "start_time": "2022-04-27T15:57:46.209Z"
   },
   {
    "duration": 6,
    "start_time": "2022-04-27T15:57:46.229Z"
   },
   {
    "duration": 39,
    "start_time": "2022-04-27T15:57:46.237Z"
   },
   {
    "duration": 4,
    "start_time": "2022-04-27T15:57:46.277Z"
   },
   {
    "duration": 7,
    "start_time": "2022-04-27T15:57:46.283Z"
   },
   {
    "duration": 7,
    "start_time": "2022-04-27T15:57:46.292Z"
   },
   {
    "duration": 7,
    "start_time": "2022-04-27T15:57:46.301Z"
   },
   {
    "duration": 35,
    "start_time": "2022-04-27T15:57:46.309Z"
   },
   {
    "duration": 28,
    "start_time": "2022-04-27T15:57:46.346Z"
   },
   {
    "duration": 11,
    "start_time": "2022-04-27T15:57:46.375Z"
   },
   {
    "duration": 39,
    "start_time": "2022-04-27T15:57:46.387Z"
   },
   {
    "duration": 162,
    "start_time": "2022-04-27T15:57:46.427Z"
   },
   {
    "duration": 4,
    "start_time": "2022-04-27T15:57:46.591Z"
   },
   {
    "duration": 126,
    "start_time": "2022-04-27T15:57:46.597Z"
   },
   {
    "duration": 3,
    "start_time": "2022-04-27T15:57:46.725Z"
   },
   {
    "duration": 735,
    "start_time": "2022-04-27T15:57:46.729Z"
   },
   {
    "duration": 131,
    "start_time": "2022-04-27T15:57:47.465Z"
   },
   {
    "duration": 5,
    "start_time": "2022-04-27T15:57:47.598Z"
   },
   {
    "duration": 168,
    "start_time": "2022-04-27T15:57:47.605Z"
   },
   {
    "duration": 3,
    "start_time": "2022-04-27T15:57:47.774Z"
   },
   {
    "duration": 200,
    "start_time": "2022-04-27T15:57:47.779Z"
   },
   {
    "duration": 419,
    "start_time": "2022-04-27T15:57:47.981Z"
   },
   {
    "duration": 6,
    "start_time": "2022-04-27T15:57:48.402Z"
   },
   {
    "duration": 254,
    "start_time": "2022-04-27T15:57:48.410Z"
   },
   {
    "duration": 3,
    "start_time": "2022-04-27T15:57:48.674Z"
   },
   {
    "duration": 13,
    "start_time": "2022-04-27T15:57:48.678Z"
   },
   {
    "duration": 14,
    "start_time": "2022-04-27T15:57:48.693Z"
   },
   {
    "duration": 1044,
    "start_time": "2022-04-27T15:57:48.711Z"
   },
   {
    "duration": 150,
    "start_time": "2022-04-27T15:57:49.757Z"
   },
   {
    "duration": 7,
    "start_time": "2022-04-27T15:57:49.908Z"
   },
   {
    "duration": 174,
    "start_time": "2022-04-27T15:57:49.916Z"
   },
   {
    "duration": 3,
    "start_time": "2022-04-27T15:57:50.091Z"
   },
   {
    "duration": 282,
    "start_time": "2022-04-27T15:57:50.096Z"
   },
   {
    "duration": 314,
    "start_time": "2022-04-27T15:57:50.381Z"
   },
   {
    "duration": 5,
    "start_time": "2022-04-27T15:57:50.697Z"
   },
   {
    "duration": 269,
    "start_time": "2022-04-27T15:57:50.704Z"
   },
   {
    "duration": 3,
    "start_time": "2022-04-27T15:57:50.975Z"
   },
   {
    "duration": 7,
    "start_time": "2022-04-27T15:57:50.979Z"
   },
   {
    "duration": 13,
    "start_time": "2022-04-27T15:57:50.988Z"
   },
   {
    "duration": 6,
    "start_time": "2022-04-27T15:57:51.003Z"
   },
   {
    "duration": 399,
    "start_time": "2022-04-27T15:57:51.011Z"
   },
   {
    "duration": 146,
    "start_time": "2022-04-27T15:57:51.412Z"
   },
   {
    "duration": 15,
    "start_time": "2022-04-27T15:57:51.560Z"
   },
   {
    "duration": 157,
    "start_time": "2022-04-27T15:57:51.577Z"
   },
   {
    "duration": 3,
    "start_time": "2022-04-27T15:57:51.736Z"
   },
   {
    "duration": 232,
    "start_time": "2022-04-27T15:57:51.741Z"
   },
   {
    "duration": 232,
    "start_time": "2022-04-27T15:57:51.975Z"
   },
   {
    "duration": 8,
    "start_time": "2022-04-27T15:57:52.209Z"
   },
   {
    "duration": 260,
    "start_time": "2022-04-27T15:57:52.218Z"
   },
   {
    "duration": 3,
    "start_time": "2022-04-27T15:57:52.480Z"
   },
   {
    "duration": 94,
    "start_time": "2022-04-27T15:57:52.485Z"
   },
   {
    "duration": 36,
    "start_time": "2022-04-27T15:57:52.580Z"
   },
   {
    "duration": 6,
    "start_time": "2022-04-27T15:57:52.618Z"
   },
   {
    "duration": 5,
    "start_time": "2022-04-27T15:57:52.626Z"
   },
   {
    "duration": 133095,
    "start_time": "2022-04-27T15:57:52.633Z"
   },
   {
    "duration": 4,
    "start_time": "2022-04-27T16:00:05.730Z"
   },
   {
    "duration": 48,
    "start_time": "2022-04-27T16:00:05.736Z"
   },
   {
    "duration": 5,
    "start_time": "2022-04-27T16:00:05.786Z"
   },
   {
    "duration": 14,
    "start_time": "2022-04-27T16:00:05.792Z"
   },
   {
    "duration": 882,
    "start_time": "2022-04-27T16:00:05.807Z"
   },
   {
    "duration": 37,
    "start_time": "2022-04-27T16:00:06.690Z"
   },
   {
    "duration": 161,
    "start_time": "2022-04-27T16:00:06.729Z"
   },
   {
    "duration": 158,
    "start_time": "2022-04-27T16:00:06.892Z"
   }
  ],
  "kernelspec": {
   "display_name": "Python 3 (ipykernel)",
   "language": "python",
   "name": "python3"
  },
  "language_info": {
   "codemirror_mode": {
    "name": "ipython",
    "version": 3
   },
   "file_extension": ".py",
   "mimetype": "text/x-python",
   "name": "python",
   "nbconvert_exporter": "python",
   "pygments_lexer": "ipython3",
   "version": "3.9.5"
  },
  "toc": {
   "base_numbering": 1,
   "nav_menu": {},
   "number_sections": true,
   "sideBar": true,
   "skip_h1_title": true,
   "title_cell": "Содержание",
   "title_sidebar": "Contents",
   "toc_cell": true,
   "toc_position": {
    "height": "calc(100% - 180px)",
    "left": "10px",
    "top": "150px",
    "width": "226.188px"
   },
   "toc_section_display": true,
   "toc_window_display": true
  }
 },
 "nbformat": 4,
 "nbformat_minor": 2
}
